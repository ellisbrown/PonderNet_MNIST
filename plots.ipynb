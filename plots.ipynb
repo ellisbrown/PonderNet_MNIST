{
 "cells": [
  {
   "cell_type": "code",
   "execution_count": 1,
   "metadata": {},
   "outputs": [],
   "source": [
    "import pandas as pd\n",
    "import numpy as np\n",
    "import matplotlib.pyplot as plt\n",
    "import seaborn as sns\n",
    "import os"
   ]
  },
  {
   "cell_type": "code",
   "execution_count": 2,
   "metadata": {},
   "outputs": [
    {
     "data": {
      "text/html": [
       "<div>\n",
       "<style scoped>\n",
       "    .dataframe tbody tr th:only-of-type {\n",
       "        vertical-align: middle;\n",
       "    }\n",
       "\n",
       "    .dataframe tbody tr th {\n",
       "        vertical-align: top;\n",
       "    }\n",
       "\n",
       "    .dataframe thead th {\n",
       "        text-align: right;\n",
       "    }\n",
       "</style>\n",
       "<table border=\"1\" class=\"dataframe\">\n",
       "  <thead>\n",
       "    <tr style=\"text-align: right;\">\n",
       "      <th></th>\n",
       "      <th>Name</th>\n",
       "      <th>Created</th>\n",
       "      <th>Runtime</th>\n",
       "      <th>GitHub</th>\n",
       "      <th>End Time</th>\n",
       "      <th>ID</th>\n",
       "      <th>Notes</th>\n",
       "      <th>State</th>\n",
       "      <th>Updated</th>\n",
       "      <th>Tags</th>\n",
       "      <th>...</th>\n",
       "      <th>test/steps_std/dataloader_idx_2</th>\n",
       "      <th>test/steps_std/dataloader_idx_3</th>\n",
       "      <th>test/steps_std/dataloader_idx_4</th>\n",
       "      <th>test/steps_std/dataloader_idx_5</th>\n",
       "      <th>test/steps_std/dataloader_idx_6</th>\n",
       "      <th>test/steps_std/dataloader_idx_7</th>\n",
       "      <th>test/steps_std/dataloader_idx_8</th>\n",
       "      <th>test/steps_std/dataloader_idx_9</th>\n",
       "      <th>train/steps_std</th>\n",
       "      <th>val/steps_std</th>\n",
       "    </tr>\n",
       "  </thead>\n",
       "  <tbody>\n",
       "    <tr>\n",
       "      <th>0</th>\n",
       "      <td>extrapolation/random_erasing</td>\n",
       "      <td>2021-11-29T04:55:59.000Z</td>\n",
       "      <td>1660</td>\n",
       "      <td>https://github.com/ellisbrown/PonderNet_MNIST/...</td>\n",
       "      <td>2021-11-29T05:23:39.000Z</td>\n",
       "      <td>xfer8x0z</td>\n",
       "      <td>-</td>\n",
       "      <td>finished</td>\n",
       "      <td>2021-11-29T05:23:39.000Z</td>\n",
       "      <td>NaN</td>\n",
       "      <td>...</td>\n",
       "      <td>5.830204</td>\n",
       "      <td>5.708004</td>\n",
       "      <td>5.727984</td>\n",
       "      <td>5.618362</td>\n",
       "      <td>5.598667</td>\n",
       "      <td>5.50165</td>\n",
       "      <td>5.433098</td>\n",
       "      <td>5.455658</td>\n",
       "      <td>6.668766</td>\n",
       "      <td>5.870093</td>\n",
       "    </tr>\n",
       "  </tbody>\n",
       "</table>\n",
       "<p>1 rows × 143 columns</p>\n",
       "</div>"
      ],
      "text/plain": [
       "                           Name                   Created  Runtime  \\\n",
       "0  extrapolation/random_erasing  2021-11-29T04:55:59.000Z     1660   \n",
       "\n",
       "                                              GitHub  \\\n",
       "0  https://github.com/ellisbrown/PonderNet_MNIST/...   \n",
       "\n",
       "                   End Time        ID Notes     State  \\\n",
       "0  2021-11-29T05:23:39.000Z  xfer8x0z     -  finished   \n",
       "\n",
       "                    Updated  Tags  ... test/steps_std/dataloader_idx_2  \\\n",
       "0  2021-11-29T05:23:39.000Z   NaN  ...                        5.830204   \n",
       "\n",
       "   test/steps_std/dataloader_idx_3  test/steps_std/dataloader_idx_4  \\\n",
       "0                         5.708004                         5.727984   \n",
       "\n",
       "   test/steps_std/dataloader_idx_5  test/steps_std/dataloader_idx_6  \\\n",
       "0                         5.618362                         5.598667   \n",
       "\n",
       "   test/steps_std/dataloader_idx_7  test/steps_std/dataloader_idx_8  \\\n",
       "0                          5.50165                         5.433098   \n",
       "\n",
       "   test/steps_std/dataloader_idx_9  train/steps_std  val/steps_std  \n",
       "0                         5.455658         6.668766       5.870093  \n",
       "\n",
       "[1 rows x 143 columns]"
      ]
     },
     "execution_count": 2,
     "metadata": {},
     "output_type": "execute_result"
    }
   ],
   "source": [
    "filename = 're.csv'\n",
    "\n",
    "df = pd.read_csv(filename)\n",
    "df"
   ]
  },
  {
   "cell_type": "code",
   "execution_count": 21,
   "metadata": {},
   "outputs": [
    {
     "data": {
      "text/plain": [
       "True"
      ]
     },
     "execution_count": 21,
     "metadata": {},
     "output_type": "execute_result"
    }
   ],
   "source": [
    "np.isnan(df[\"test_2/steps/dataloader_idx_2\"][0])"
   ]
  },
  {
   "cell_type": "code",
   "execution_count": 27,
   "metadata": {},
   "outputs": [
    {
     "data": {
      "text/html": [
       "<div>\n",
       "<style scoped>\n",
       "    .dataframe tbody tr th:only-of-type {\n",
       "        vertical-align: middle;\n",
       "    }\n",
       "\n",
       "    .dataframe tbody tr th {\n",
       "        vertical-align: top;\n",
       "    }\n",
       "\n",
       "    .dataframe thead th {\n",
       "        text-align: right;\n",
       "    }\n",
       "</style>\n",
       "<table border=\"1\" class=\"dataframe\">\n",
       "  <thead>\n",
       "    <tr style=\"text-align: right;\">\n",
       "      <th></th>\n",
       "      <th>test/accuracy/dataloader_idx_10</th>\n",
       "      <th>test/steps/dataloader_idx_10</th>\n",
       "      <th>test/steps_25/dataloader_idx_10</th>\n",
       "      <th>test/steps_50/dataloader_idx_10</th>\n",
       "      <th>test/steps_75/dataloader_idx_10</th>\n",
       "      <th>test/steps_std/dataloader_idx_10</th>\n",
       "    </tr>\n",
       "  </thead>\n",
       "  <tbody>\n",
       "    <tr>\n",
       "      <th>0</th>\n",
       "      <td>0.767</td>\n",
       "      <td>7.2888</td>\n",
       "      <td>3.1376</td>\n",
       "      <td>5.6816</td>\n",
       "      <td>9.9852</td>\n",
       "      <td>5.354171</td>\n",
       "    </tr>\n",
       "  </tbody>\n",
       "</table>\n",
       "</div>"
      ],
      "text/plain": [
       "   test/accuracy/dataloader_idx_10  test/steps/dataloader_idx_10  \\\n",
       "0                            0.767                        7.2888   \n",
       "\n",
       "   test/steps_25/dataloader_idx_10  test/steps_50/dataloader_idx_10  \\\n",
       "0                           3.1376                           5.6816   \n",
       "\n",
       "   test/steps_75/dataloader_idx_10  test/steps_std/dataloader_idx_10  \n",
       "0                           9.9852                          5.354171  "
      ]
     },
     "execution_count": 27,
     "metadata": {},
     "output_type": "execute_result"
    }
   ],
   "source": [
    "df[[column for column in df.columns if (\"dataloader_idx_10\" in column and not np.isnan(df[column][0]))]]"
   ]
  },
  {
   "cell_type": "code",
   "execution_count": 26,
   "metadata": {},
   "outputs": [
    {
     "data": {
      "text/html": [
       "<div>\n",
       "<style scoped>\n",
       "    .dataframe tbody tr th:only-of-type {\n",
       "        vertical-align: middle;\n",
       "    }\n",
       "\n",
       "    .dataframe tbody tr th {\n",
       "        vertical-align: top;\n",
       "    }\n",
       "\n",
       "    .dataframe thead th {\n",
       "        text-align: right;\n",
       "    }\n",
       "</style>\n",
       "<table border=\"1\" class=\"dataframe\">\n",
       "  <thead>\n",
       "    <tr style=\"text-align: right;\">\n",
       "      <th></th>\n",
       "      <th>test/accuracy/dataloader_idx_0</th>\n",
       "      <th>test/accuracy/dataloader_idx_1</th>\n",
       "      <th>test/accuracy/dataloader_idx_2</th>\n",
       "      <th>test/accuracy/dataloader_idx_3</th>\n",
       "      <th>test/accuracy/dataloader_idx_4</th>\n",
       "      <th>test/accuracy/dataloader_idx_5</th>\n",
       "      <th>test/accuracy/dataloader_idx_6</th>\n",
       "      <th>test/steps/dataloader_idx_0</th>\n",
       "      <th>test/steps/dataloader_idx_1</th>\n",
       "      <th>test/steps/dataloader_idx_2</th>\n",
       "      <th>...</th>\n",
       "      <th>test/steps_std/dataloader_idx_1</th>\n",
       "      <th>test/steps_std/dataloader_idx_10</th>\n",
       "      <th>test/steps_std/dataloader_idx_2</th>\n",
       "      <th>test/steps_std/dataloader_idx_3</th>\n",
       "      <th>test/steps_std/dataloader_idx_4</th>\n",
       "      <th>test/steps_std/dataloader_idx_5</th>\n",
       "      <th>test/steps_std/dataloader_idx_6</th>\n",
       "      <th>test/steps_std/dataloader_idx_7</th>\n",
       "      <th>test/steps_std/dataloader_idx_8</th>\n",
       "      <th>test/steps_std/dataloader_idx_9</th>\n",
       "    </tr>\n",
       "  </thead>\n",
       "  <tbody>\n",
       "    <tr>\n",
       "      <th>0</th>\n",
       "      <td>0.989</td>\n",
       "      <td>0.9651</td>\n",
       "      <td>0.9441</td>\n",
       "      <td>0.9205</td>\n",
       "      <td>0.9005</td>\n",
       "      <td>0.8856</td>\n",
       "      <td>0.8522</td>\n",
       "      <td>8.6249</td>\n",
       "      <td>8.4814</td>\n",
       "      <td>8.3522</td>\n",
       "      <td>...</td>\n",
       "      <td>5.85094</td>\n",
       "      <td>5.354171</td>\n",
       "      <td>5.830204</td>\n",
       "      <td>5.708004</td>\n",
       "      <td>5.727984</td>\n",
       "      <td>5.618362</td>\n",
       "      <td>5.598667</td>\n",
       "      <td>5.50165</td>\n",
       "      <td>5.433098</td>\n",
       "      <td>5.455658</td>\n",
       "    </tr>\n",
       "  </tbody>\n",
       "</table>\n",
       "<p>1 rows × 66 columns</p>\n",
       "</div>"
      ],
      "text/plain": [
       "   test/accuracy/dataloader_idx_0  test/accuracy/dataloader_idx_1  \\\n",
       "0                           0.989                          0.9651   \n",
       "\n",
       "   test/accuracy/dataloader_idx_2  test/accuracy/dataloader_idx_3  \\\n",
       "0                          0.9441                          0.9205   \n",
       "\n",
       "   test/accuracy/dataloader_idx_4  test/accuracy/dataloader_idx_5  \\\n",
       "0                          0.9005                          0.8856   \n",
       "\n",
       "   test/accuracy/dataloader_idx_6  test/steps/dataloader_idx_0  \\\n",
       "0                          0.8522                       8.6249   \n",
       "\n",
       "   test/steps/dataloader_idx_1  test/steps/dataloader_idx_2  ...  \\\n",
       "0                       8.4814                       8.3522  ...   \n",
       "\n",
       "   test/steps_std/dataloader_idx_1  test/steps_std/dataloader_idx_10  \\\n",
       "0                          5.85094                          5.354171   \n",
       "\n",
       "   test/steps_std/dataloader_idx_2  test/steps_std/dataloader_idx_3  \\\n",
       "0                         5.830204                         5.708004   \n",
       "\n",
       "   test/steps_std/dataloader_idx_4  test/steps_std/dataloader_idx_5  \\\n",
       "0                         5.727984                         5.618362   \n",
       "\n",
       "   test/steps_std/dataloader_idx_6  test/steps_std/dataloader_idx_7  \\\n",
       "0                         5.598667                          5.50165   \n",
       "\n",
       "   test/steps_std/dataloader_idx_8  test/steps_std/dataloader_idx_9  \n",
       "0                         5.433098                         5.455658  \n",
       "\n",
       "[1 rows x 66 columns]"
      ]
     },
     "execution_count": 26,
     "metadata": {},
     "output_type": "execute_result"
    }
   ],
   "source": [
    "test_columns = [column for column in df.columns if (\"test\" in column and not np.isnan(df[column][0]))]\n",
    "df[test_columns]"
   ]
  },
  {
   "cell_type": "code",
   "execution_count": 42,
   "metadata": {},
   "outputs": [
    {
     "data": {
      "text/html": [
       "<div>\n",
       "<style scoped>\n",
       "    .dataframe tbody tr th:only-of-type {\n",
       "        vertical-align: middle;\n",
       "    }\n",
       "\n",
       "    .dataframe tbody tr th {\n",
       "        vertical-align: top;\n",
       "    }\n",
       "\n",
       "    .dataframe thead th {\n",
       "        text-align: right;\n",
       "    }\n",
       "</style>\n",
       "<table border=\"1\" class=\"dataframe\">\n",
       "  <thead>\n",
       "    <tr style=\"text-align: right;\">\n",
       "      <th></th>\n",
       "      <th>field</th>\n",
       "      <th>idx</th>\n",
       "      <th>val</th>\n",
       "    </tr>\n",
       "  </thead>\n",
       "  <tbody>\n",
       "    <tr>\n",
       "      <th>0</th>\n",
       "      <td>steps_50</td>\n",
       "      <td>0</td>\n",
       "      <td>7.047200</td>\n",
       "    </tr>\n",
       "    <tr>\n",
       "      <th>1</th>\n",
       "      <td>steps_50</td>\n",
       "      <td>1</td>\n",
       "      <td>6.777600</td>\n",
       "    </tr>\n",
       "    <tr>\n",
       "      <th>2</th>\n",
       "      <td>steps_50</td>\n",
       "      <td>2</td>\n",
       "      <td>6.552000</td>\n",
       "    </tr>\n",
       "    <tr>\n",
       "      <th>3</th>\n",
       "      <td>steps_50</td>\n",
       "      <td>3</td>\n",
       "      <td>6.624800</td>\n",
       "    </tr>\n",
       "    <tr>\n",
       "      <th>4</th>\n",
       "      <td>steps_50</td>\n",
       "      <td>4</td>\n",
       "      <td>6.377600</td>\n",
       "    </tr>\n",
       "    <tr>\n",
       "      <th>...</th>\n",
       "      <td>...</td>\n",
       "      <td>...</td>\n",
       "      <td>...</td>\n",
       "    </tr>\n",
       "    <tr>\n",
       "      <th>61</th>\n",
       "      <td>steps_std</td>\n",
       "      <td>6</td>\n",
       "      <td>5.598667</td>\n",
       "    </tr>\n",
       "    <tr>\n",
       "      <th>62</th>\n",
       "      <td>steps_std</td>\n",
       "      <td>7</td>\n",
       "      <td>5.501650</td>\n",
       "    </tr>\n",
       "    <tr>\n",
       "      <th>63</th>\n",
       "      <td>steps_std</td>\n",
       "      <td>8</td>\n",
       "      <td>5.433098</td>\n",
       "    </tr>\n",
       "    <tr>\n",
       "      <th>64</th>\n",
       "      <td>steps_std</td>\n",
       "      <td>9</td>\n",
       "      <td>5.455658</td>\n",
       "    </tr>\n",
       "    <tr>\n",
       "      <th>65</th>\n",
       "      <td>steps_std</td>\n",
       "      <td>10</td>\n",
       "      <td>5.354171</td>\n",
       "    </tr>\n",
       "  </tbody>\n",
       "</table>\n",
       "<p>66 rows × 3 columns</p>\n",
       "</div>"
      ],
      "text/plain": [
       "        field  idx       val\n",
       "0    steps_50    0  7.047200\n",
       "1    steps_50    1  6.777600\n",
       "2    steps_50    2  6.552000\n",
       "3    steps_50    3  6.624800\n",
       "4    steps_50    4  6.377600\n",
       "..        ...  ...       ...\n",
       "61  steps_std    6  5.598667\n",
       "62  steps_std    7  5.501650\n",
       "63  steps_std    8  5.433098\n",
       "64  steps_std    9  5.455658\n",
       "65  steps_std   10  5.354171\n",
       "\n",
       "[66 rows x 3 columns]"
      ]
     },
     "execution_count": 42,
     "metadata": {},
     "output_type": "execute_result"
    }
   ],
   "source": [
    "max_idx = np.max([int(column.split(\"_\")[-1]) for column in test_columns])\n",
    "fields = set([column.split(\"/\")[1] for column in test_columns])\n",
    "\n",
    "vals = []\n",
    "for field in fields:\n",
    "    for i in range(max_idx+1):\n",
    "        column = f\"test/{field}/dataloader_idx_{i}\"\n",
    "        if column in df.columns:\n",
    "            vals.append(dict(field=field, idx=i, val=df[column][0]))\n",
    "\n",
    "field_df = pd.DataFrame(vals)\n",
    "field_df"
   ]
  },
  {
   "cell_type": "code",
   "execution_count": 52,
   "metadata": {},
   "outputs": [
    {
     "data": {
      "text/plain": [
       "{'accuracy', 'steps', 'steps_25', 'steps_50', 'steps_75', 'steps_std'}"
      ]
     },
     "execution_count": 52,
     "metadata": {},
     "output_type": "execute_result"
    }
   ],
   "source": [
    "fields"
   ]
  },
  {
   "cell_type": "code",
   "execution_count": 62,
   "metadata": {},
   "outputs": [],
   "source": [
    "ps = np.linspace(0, 1, 11)\n",
    "accs = field_df[field_df[\"field\"] == \"accuracy\"].val\n",
    "steps = field_df[field_df[\"field\"] == \"steps\"].val\n",
    "steps_std = field_df[field_df[\"field\"] == \"steps_std\"].val"
   ]
  },
  {
   "cell_type": "code",
   "execution_count": 67,
   "metadata": {},
   "outputs": [
    {
     "data": {
      "image/png": "[encoded data removed]",
      "text/plain": [
       "<Figure size 432x288 with 2 Axes>"
      ]
     },
     "metadata": {
      "needs_background": "light"
     },
     "output_type": "display_data"
    }
   ],
   "source": [
    "# plot accuracy and steps vs. rotation with two y axes\n",
    "fig, ax1 = plt.subplots()\n",
    "ax1.set_xlabel(\"Prob.\")\n",
    "ax1.set_ylabel(\"Accuracy\")\n",
    "ax1.plot(ps, accs, color='b', label=\"Accuracy\")\n",
    "ax1.set_xticks(ps)\n",
    "ax1.set_xticklabels([f\"${p:.2}$\" for p in ps])\n",
    "ax1.set_ylim(0., 1.0)\n",
    "ax2 = ax1.twinx()\n",
    "ax2.set_ylabel(\"Steps\")\n",
    "ax2.plot(ps, steps, color=\"r\", label=\"Steps\")\n",
    "# ax2.errorbar(ps, steps, yerr=0.1, fmt='o', color=\"r\", label=\"Steps\")\n",
    "# ax2.set_ylim(5,6)\n",
    "fig.legend()\n",
    "\n",
    "fig.tight_layout()\n",
    "fig.savefig(\"occlusion_acc.png\", dpi=500)"
   ]
  },
  {
   "cell_type": "code",
   "execution_count": null,
   "metadata": {},
   "outputs": [],
   "source": []
  }
 ],
 "metadata": {
  "interpreter": {
   "hash": "5c061cf8b470c421540933f60c957ae41021d4e96c8ad7fd4d245fd565be9a60"
  },
  "kernelspec": {
   "display_name": "Python 3.9.7 64-bit ('ml': conda)",
   "language": "python",
   "name": "python3"
  },
  "language_info": {
   "codemirror_mode": {
    "name": "ipython",
    "version": 3
   },
   "file_extension": ".py",
   "mimetype": "text/x-python",
   "name": "python",
   "nbconvert_exporter": "python",
   "pygments_lexer": "ipython3",
   "version": "3.9.7"
  },
  "orig_nbformat": 4
 },
 "nbformat": 4,
 "nbformat_minor": 2
}
