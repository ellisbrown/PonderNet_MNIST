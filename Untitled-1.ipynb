{
 "cells": [
  {
   "cell_type": "code",
   "execution_count": 1,
   "metadata": {},
   "outputs": [],
   "source": [
    "import pandas as pd\n",
    "import numpy as np\n",
    "import matplotlib.pyplot as plt\n",
    "import seaborn as sns\n",
    "import os"
   ]
  },
  {
   "cell_type": "code",
   "execution_count": 2,
   "metadata": {},
   "outputs": [
    {
     "data": {
      "text/html": [
       "<div>\n",
       "<style scoped>\n",
       "    .dataframe tbody tr th:only-of-type {\n",
       "        vertical-align: middle;\n",
       "    }\n",
       "\n",
       "    .dataframe tbody tr th {\n",
       "        vertical-align: top;\n",
       "    }\n",
       "\n",
       "    .dataframe thead th {\n",
       "        text-align: right;\n",
       "    }\n",
       "</style>\n",
       "<table border=\"1\" class=\"dataframe\">\n",
       "  <thead>\n",
       "    <tr style=\"text-align: right;\">\n",
       "      <th></th>\n",
       "      <th>accuracy</th>\n",
       "      <th>steps</th>\n",
       "      <th>rotation</th>\n",
       "    </tr>\n",
       "  </thead>\n",
       "  <tbody>\n",
       "    <tr>\n",
       "      <th>0</th>\n",
       "      <td>0.9854</td>\n",
       "      <td>5.2206</td>\n",
       "      <td>22.5</td>\n",
       "    </tr>\n",
       "    <tr>\n",
       "      <th>1</th>\n",
       "      <td>0.9585</td>\n",
       "      <td>5.2293</td>\n",
       "      <td>45.0</td>\n",
       "    </tr>\n",
       "    <tr>\n",
       "      <th>2</th>\n",
       "      <td>0.8382</td>\n",
       "      <td>5.2070</td>\n",
       "      <td>67.5</td>\n",
       "    </tr>\n",
       "    <tr>\n",
       "      <th>3</th>\n",
       "      <td>0.6909</td>\n",
       "      <td>5.1682</td>\n",
       "      <td>90.0</td>\n",
       "    </tr>\n",
       "  </tbody>\n",
       "</table>\n",
       "</div>"
      ],
      "text/plain": [
       "   accuracy   steps  rotation\n",
       "0    0.9854  5.2206      22.5\n",
       "1    0.9585  5.2293      45.0\n",
       "2    0.8382  5.2070      67.5\n",
       "3    0.6909  5.1682      90.0"
      ]
     },
     "execution_count": 2,
     "metadata": {},
     "output_type": "execute_result"
    }
   ],
   "source": [
    "vals = [0.9854000210762020,\t5.220600128173830,\t0.9585000276565550,\t5.229300022125240,\t0.8381999731063840,\t5.206999778747560,\t0.6909000277519230,\t5.1682000160217300]\n",
    "accs = [v for i, v in enumerate(vals) if i%2 == 0]\n",
    "steps = [v for i, v in enumerate(vals) if i%2 == 1]\n",
    "rots = [22.5, 45, 67.5, 90]\n",
    "\n",
    "df = pd.DataFrame({\"accuracy\": accs, \"steps\": steps, \"rotation\": rots})\n",
    "df"
   ]
  },
  {
   "cell_type": "code",
   "execution_count": 3,
   "metadata": {},
   "outputs": [
    {
     "data": {
      "text/plain": [
       "<matplotlib.legend.Legend at 0x13914b160>"
      ]
     },
     "execution_count": 3,
     "metadata": {},
     "output_type": "execute_result"
    },
    {
     "data": {
      "image/png": "[encoded data removed]",
      "text/plain": [
       "<Figure size 432x288 with 2 Axes>"
      ]
     },
     "metadata": {
      "needs_background": "light"
     },
     "output_type": "display_data"
    }
   ],
   "source": [
    "# plot accuracy and steps vs. rotation with two y axes\n",
    "fig, ax1 = plt.subplots()\n",
    "ax1.set_xlabel(\"Rotation\")\n",
    "ax1.set_ylabel(\"Accuracy\")\n",
    "ax1.plot(rots, accs, color='b', label=\"Accuracy\")\n",
    "ax1.set_xticks(rots)\n",
    "ax1.set_xticklabels(rots)\n",
    "ax1.set_ylim(0., 1.0)\n",
    "ax2 = ax1.twinx()\n",
    "ax2.set_ylabel(\"Steps\")\n",
    "ax2.plot(rots, steps, color=\"r\", label=\"Steps\")\n",
    "ax2.set_xticks(rots)\n",
    "ax2.set_xticklabels(rots)\n",
    "ax2.set_ylim(5,6)\n",
    "fig.legend(loc=\"center\")"
   ]
  },
  {
   "cell_type": "code",
   "execution_count": 4,
   "metadata": {},
   "outputs": [
    {
     "data": {
      "text/html": [
       "<div>\n",
       "<style scoped>\n",
       "    .dataframe tbody tr th:only-of-type {\n",
       "        vertical-align: middle;\n",
       "    }\n",
       "\n",
       "    .dataframe tbody tr th {\n",
       "        vertical-align: top;\n",
       "    }\n",
       "\n",
       "    .dataframe thead th {\n",
       "        text-align: right;\n",
       "    }\n",
       "</style>\n",
       "<table border=\"1\" class=\"dataframe\">\n",
       "  <thead>\n",
       "    <tr style=\"text-align: right;\">\n",
       "      <th></th>\n",
       "      <th>accuracy</th>\n",
       "      <th>steps</th>\n",
       "      <th>rotation</th>\n",
       "    </tr>\n",
       "  </thead>\n",
       "  <tbody>\n",
       "    <tr>\n",
       "      <th>0</th>\n",
       "      <td>0.9868</td>\n",
       "      <td>5.2069</td>\n",
       "      <td>22.5</td>\n",
       "    </tr>\n",
       "    <tr>\n",
       "      <th>1</th>\n",
       "      <td>0.9539</td>\n",
       "      <td>5.1987</td>\n",
       "      <td>45.0</td>\n",
       "    </tr>\n",
       "    <tr>\n",
       "      <th>2</th>\n",
       "      <td>0.8378</td>\n",
       "      <td>5.1655</td>\n",
       "      <td>67.5</td>\n",
       "    </tr>\n",
       "    <tr>\n",
       "      <th>3</th>\n",
       "      <td>0.6983</td>\n",
       "      <td>5.2877</td>\n",
       "      <td>90.0</td>\n",
       "    </tr>\n",
       "  </tbody>\n",
       "</table>\n",
       "</div>"
      ],
      "text/plain": [
       "   accuracy   steps  rotation\n",
       "0    0.9868  5.2069      22.5\n",
       "1    0.9539  5.1987      45.0\n",
       "2    0.8378  5.1655      67.5\n",
       "3    0.6983  5.2877      90.0"
      ]
     },
     "execution_count": 4,
     "metadata": {},
     "output_type": "execute_result"
    }
   ],
   "source": [
    "acc = [0.9868000149726870,\t0.9538999795913700,\t0.8378000259399410,\t0.6983000040054320]\n",
    "steps = [5.206900119781490,\t5.198699951171880,\t5.165500164031980,\t5.287700176239010]\n",
    "\n",
    "df = pd.DataFrame({\"accuracy\": acc, \"steps\": steps, \"rotation\": rots})\n",
    "df"
   ]
  },
  {
   "cell_type": "code",
   "execution_count": 5,
   "metadata": {},
   "outputs": [
    {
     "data": {
      "text/plain": [
       "<matplotlib.legend.Legend at 0x13924bc70>"
      ]
     },
     "execution_count": 5,
     "metadata": {},
     "output_type": "execute_result"
    },
    {
     "data": {
      "image/png": "[encoded data removed]",
      "text/plain": [
       "<Figure size 432x288 with 2 Axes>"
      ]
     },
     "metadata": {
      "needs_background": "light"
     },
     "output_type": "display_data"
    }
   ],
   "source": [
    "# plot accuracy and steps vs. rotation with two y axes\n",
    "fig, ax1 = plt.subplots()\n",
    "ax1.set_xlabel(\"Rotation\")\n",
    "ax1.set_ylabel(\"Accuracy\")\n",
    "ax1.plot(rots, accs, color='b', label=\"Accuracy\")\n",
    "ax1.set_xticks(rots)\n",
    "ax1.set_xticklabels(rots)\n",
    "ax1.set_ylim(0., 1.0)\n",
    "ax2 = ax1.twinx()\n",
    "ax2.set_ylabel(\"Steps\")\n",
    "ax2.plot(rots, steps, color=\"r\", label=\"Steps\")\n",
    "ax2.set_xticks(rots)\n",
    "ax2.set_xticklabels(rots)\n",
    "ax2.set_ylim(5,6)\n",
    "fig.legend(loc=\"center\")"
   ]
  },
  {
   "cell_type": "code",
   "execution_count": 6,
   "metadata": {},
   "outputs": [
    {
     "ename": "NameError",
     "evalue": "name 'qtl' is not defined",
     "output_type": "error",
     "traceback": [
      "\u001b[0;31m---------------------------------------------------------------------------\u001b[0m",
      "\u001b[0;31mNameError\u001b[0m                                 Traceback (most recent call last)",
      "\u001b[0;32m/var/folders/q7/gphkxgd160s3jb1bgfsjb91c0000gp/T/ipykernel_69575/1829821716.py\u001b[0m in \u001b[0;36m<module>\u001b[0;34m\u001b[0m\n\u001b[0;32m----> 1\u001b[0;31m \u001b[0ma\u001b[0m\u001b[0;34m,\u001b[0m\u001b[0mb\u001b[0m\u001b[0;34m,\u001b[0m\u001b[0mc\u001b[0m \u001b[0;34m=\u001b[0m \u001b[0mqtl\u001b[0m\u001b[0;34m\u001b[0m\u001b[0;34m\u001b[0m\u001b[0m\n\u001b[0m\u001b[1;32m      2\u001b[0m \u001b[0ma\u001b[0m\u001b[0;34m,\u001b[0m\u001b[0mb\u001b[0m\u001b[0;34m,\u001b[0m\u001b[0mc\u001b[0m\u001b[0;34m\u001b[0m\u001b[0;34m\u001b[0m\u001b[0m\n",
      "\u001b[0;31mNameError\u001b[0m: name 'qtl' is not defined"
     ]
    }
   ],
   "source": [
    "a,b,c = qtl\n",
    "a,b,c"
   ]
  },
  {
   "cell_type": "code",
   "execution_count": 7,
   "metadata": {},
   "outputs": [
    {
     "data": {
      "text/html": [
       "<div>\n",
       "<style scoped>\n",
       "    .dataframe tbody tr th:only-of-type {\n",
       "        vertical-align: middle;\n",
       "    }\n",
       "\n",
       "    .dataframe tbody tr th {\n",
       "        vertical-align: top;\n",
       "    }\n",
       "\n",
       "    .dataframe thead th {\n",
       "        text-align: right;\n",
       "    }\n",
       "</style>\n",
       "<table border=\"1\" class=\"dataframe\">\n",
       "  <thead>\n",
       "    <tr style=\"text-align: right;\">\n",
       "      <th></th>\n",
       "      <th>degrees</th>\n",
       "      <th>accuracy</th>\n",
       "      <th>steps</th>\n",
       "      <th>steps_25</th>\n",
       "      <th>steps_50</th>\n",
       "      <th>steps_75</th>\n",
       "    </tr>\n",
       "  </thead>\n",
       "  <tbody>\n",
       "    <tr>\n",
       "      <th>0</th>\n",
       "      <td>0.0</td>\n",
       "      <td>0.0982</td>\n",
       "      <td>2.0933</td>\n",
       "      <td>1.0</td>\n",
       "      <td>1.6608</td>\n",
       "      <td>2.7680</td>\n",
       "    </tr>\n",
       "    <tr>\n",
       "      <th>1</th>\n",
       "      <td>30.0</td>\n",
       "      <td>0.0982</td>\n",
       "      <td>2.0927</td>\n",
       "      <td>1.0</td>\n",
       "      <td>1.6800</td>\n",
       "      <td>2.6948</td>\n",
       "    </tr>\n",
       "    <tr>\n",
       "      <th>2</th>\n",
       "      <td>60.0</td>\n",
       "      <td>0.0982</td>\n",
       "      <td>2.0886</td>\n",
       "      <td>1.0</td>\n",
       "      <td>1.6864</td>\n",
       "      <td>2.7552</td>\n",
       "    </tr>\n",
       "    <tr>\n",
       "      <th>3</th>\n",
       "      <td>90.0</td>\n",
       "      <td>0.0982</td>\n",
       "      <td>2.0843</td>\n",
       "      <td>1.0</td>\n",
       "      <td>1.6728</td>\n",
       "      <td>2.6560</td>\n",
       "    </tr>\n",
       "    <tr>\n",
       "      <th>4</th>\n",
       "      <td>120.0</td>\n",
       "      <td>0.0982</td>\n",
       "      <td>2.0944</td>\n",
       "      <td>1.0</td>\n",
       "      <td>1.6800</td>\n",
       "      <td>2.6868</td>\n",
       "    </tr>\n",
       "    <tr>\n",
       "      <th>5</th>\n",
       "      <td>150.0</td>\n",
       "      <td>0.0982</td>\n",
       "      <td>2.1056</td>\n",
       "      <td>1.0</td>\n",
       "      <td>1.6912</td>\n",
       "      <td>2.7360</td>\n",
       "    </tr>\n",
       "    <tr>\n",
       "      <th>6</th>\n",
       "      <td>180.0</td>\n",
       "      <td>0.0982</td>\n",
       "      <td>2.0577</td>\n",
       "      <td>1.0</td>\n",
       "      <td>1.5696</td>\n",
       "      <td>2.5648</td>\n",
       "    </tr>\n",
       "  </tbody>\n",
       "</table>\n",
       "</div>"
      ],
      "text/plain": [
       "   degrees  accuracy   steps  steps_25  steps_50  steps_75\n",
       "0      0.0    0.0982  2.0933       1.0    1.6608    2.7680\n",
       "1     30.0    0.0982  2.0927       1.0    1.6800    2.6948\n",
       "2     60.0    0.0982  2.0886       1.0    1.6864    2.7552\n",
       "3     90.0    0.0982  2.0843       1.0    1.6728    2.6560\n",
       "4    120.0    0.0982  2.0944       1.0    1.6800    2.6868\n",
       "5    150.0    0.0982  2.1056       1.0    1.6912    2.7360\n",
       "6    180.0    0.0982  2.0577       1.0    1.5696    2.5648"
      ]
     },
     "execution_count": 7,
     "metadata": {},
     "output_type": "execute_result"
    }
   ],
   "source": [
    "accs = \"0.0982000008225441\t0.0982000008225441\t0.0982000008225441\t0.0982000008225441\t0.0982000008225441\t0.0982000008225441\t0.0982000008225441\"\n",
    "steps = \"2.0933001041412400\t2.0927000045776400\t2.088599920272830\t2.0843000411987300\t2.094399929046630\t2.105600118637090\t2.057699918746950\"\n",
    "steps_25 = \"1\t1\t1\t1\t1\t1\t1\"\n",
    "steps_50 = \"1.6607999801635700\t1.6799999475479100\t1.686400055885320\t1.6727999448776200\t1.6799999475479100\t1.6912000179290800\t1.569599986076360\"\n",
    "steps_75 = \"2.7679998874664300\t2.6947999000549300\t2.755199909210210\t2.6559998989105200\t2.686800003051760\t2.736000061035160\t2.5648000240325900\"\n",
    "\n",
    "accs = np.array(accs.split(\"\\t\")).astype(float)\n",
    "steps = np.array(steps.split(\"\\t\")).astype(float)\n",
    "steps_25 = np.array(steps_25.split(\"\\t\")).astype(float)\n",
    "steps_50 = np.array(steps_50.split(\"\\t\")).astype(float)\n",
    "steps_75 = np.array(steps_75.split(\"\\t\")).astype(float)\n",
    "\n",
    "rots = np.linspace(0, 180, 7)\n",
    "rotlabs = [f\"${r}^\\circ$\" for r in rots.astype(int)]\n",
    "\n",
    "df = pd.DataFrame({\"degrees\": rots, \"accuracy\": accs, \"steps\": steps, \"steps_25\": steps_25, \"steps_50\": steps_50, \"steps_75\": steps_75})\n",
    "df\n"
   ]
  },
  {
   "cell_type": "code",
   "execution_count": 8,
   "metadata": {},
   "outputs": [
    {
     "data": {
      "text/html": [
       "<div>\n",
       "<style scoped>\n",
       "    .dataframe tbody tr th:only-of-type {\n",
       "        vertical-align: middle;\n",
       "    }\n",
       "\n",
       "    .dataframe tbody tr th {\n",
       "        vertical-align: top;\n",
       "    }\n",
       "\n",
       "    .dataframe thead th {\n",
       "        text-align: right;\n",
       "    }\n",
       "</style>\n",
       "<table border=\"1\" class=\"dataframe\">\n",
       "  <thead>\n",
       "    <tr style=\"text-align: right;\">\n",
       "      <th></th>\n",
       "      <th>degrees</th>\n",
       "      <th>accuracy</th>\n",
       "      <th>steps</th>\n",
       "      <th>steps_25</th>\n",
       "      <th>steps_50</th>\n",
       "      <th>steps_75</th>\n",
       "    </tr>\n",
       "  </thead>\n",
       "  <tbody>\n",
       "    <tr>\n",
       "      <th>0</th>\n",
       "      <td>0.0</td>\n",
       "      <td>0.9890</td>\n",
       "      <td>8.6249</td>\n",
       "      <td>3.8492</td>\n",
       "      <td>7.0472</td>\n",
       "      <td>12.5052</td>\n",
       "    </tr>\n",
       "    <tr>\n",
       "      <th>1</th>\n",
       "      <td>30.0</td>\n",
       "      <td>0.9444</td>\n",
       "      <td>8.0280</td>\n",
       "      <td>3.5180</td>\n",
       "      <td>6.3560</td>\n",
       "      <td>11.3288</td>\n",
       "    </tr>\n",
       "    <tr>\n",
       "      <th>2</th>\n",
       "      <td>60.0</td>\n",
       "      <td>0.7554</td>\n",
       "      <td>7.9681</td>\n",
       "      <td>3.4572</td>\n",
       "      <td>6.3088</td>\n",
       "      <td>11.1008</td>\n",
       "    </tr>\n",
       "    <tr>\n",
       "      <th>3</th>\n",
       "      <td>90.0</td>\n",
       "      <td>0.5617</td>\n",
       "      <td>8.0179</td>\n",
       "      <td>3.5616</td>\n",
       "      <td>6.3792</td>\n",
       "      <td>11.1384</td>\n",
       "    </tr>\n",
       "    <tr>\n",
       "      <th>4</th>\n",
       "      <td>120.0</td>\n",
       "      <td>0.4776</td>\n",
       "      <td>8.0852</td>\n",
       "      <td>3.4972</td>\n",
       "      <td>6.3728</td>\n",
       "      <td>11.4688</td>\n",
       "    </tr>\n",
       "    <tr>\n",
       "      <th>5</th>\n",
       "      <td>150.0</td>\n",
       "      <td>0.4261</td>\n",
       "      <td>8.0108</td>\n",
       "      <td>3.4688</td>\n",
       "      <td>6.2640</td>\n",
       "      <td>11.2260</td>\n",
       "    </tr>\n",
       "    <tr>\n",
       "      <th>6</th>\n",
       "      <td>180.0</td>\n",
       "      <td>0.4167</td>\n",
       "      <td>7.9928</td>\n",
       "      <td>3.4620</td>\n",
       "      <td>6.2432</td>\n",
       "      <td>11.2156</td>\n",
       "    </tr>\n",
       "  </tbody>\n",
       "</table>\n",
       "</div>"
      ],
      "text/plain": [
       "   degrees  accuracy   steps  steps_25  steps_50  steps_75\n",
       "0      0.0    0.9890  8.6249    3.8492    7.0472   12.5052\n",
       "1     30.0    0.9444  8.0280    3.5180    6.3560   11.3288\n",
       "2     60.0    0.7554  7.9681    3.4572    6.3088   11.1008\n",
       "3     90.0    0.5617  8.0179    3.5616    6.3792   11.1384\n",
       "4    120.0    0.4776  8.0852    3.4972    6.3728   11.4688\n",
       "5    150.0    0.4261  8.0108    3.4688    6.2640   11.2260\n",
       "6    180.0    0.4167  7.9928    3.4620    6.2432   11.2156"
      ]
     },
     "execution_count": 8,
     "metadata": {},
     "output_type": "execute_result"
    }
   ],
   "source": [
    "accs = \"0.9890000224113460\t0.9444000124931340\t0.7554000020027160\t0.5616999864578250\t0.4776000082492830\t0.4260999858379360\t0.41670000553131100\"\n",
    "steps = \"8.624899864196780\t8.027999877929690\t7.968100070953370\t8.017900466918950\t8.085200309753420\t8.0108003616333\t7.992800235748290\"\n",
    "steps_25 = \"3.8492000102996800\t3.5179998874664300\t3.457200050354000\t3.5615999698638900\t3.4972000122070300\t3.4688000679016100\t3.461999893188480\"\n",
    "steps_50 = \"7.0472002029418900\t6.355999946594240\t6.308800220489500\t6.379199981689450\t6.372799873352050\t6.263999938964840\t6.243199825286870\"\n",
    "steps_75 = \"12.505200386047400\t11.328800201416000\t11.100799560546900\t11.138400077819800\t11.468799591064500\t11.22599983215330\t11.21560001373290\"\n",
    "\n",
    "accs = np.array(accs.split(\"\\t\")).astype(float)\n",
    "steps = np.array(steps.split(\"\\t\")).astype(float)\n",
    "steps_25 = np.array(steps_25.split(\"\\t\")).astype(float)\n",
    "steps_50 = np.array(steps_50.split(\"\\t\")).astype(float)\n",
    "steps_75 = np.array(steps_75.split(\"\\t\")).astype(float)\n",
    "\n",
    "rots = np.linspace(0, 180, 7)\n",
    "rotlabs = [f\"${r}^\\circ$\" for r in rots.astype(int)]\n",
    "\n",
    "df = pd.DataFrame({\"degrees\": rots, \"accuracy\": accs, \"steps\": steps, \"steps_25\": steps_25, \"steps_50\": steps_50, \"steps_75\": steps_75})\n",
    "df\n"
   ]
  },
  {
   "cell_type": "code",
   "execution_count": 28,
   "metadata": {},
   "outputs": [
    {
     "data": {
      "image/png": "[encoded data removed]",
      "text/plain": [
       "<Figure size 432x288 with 2 Axes>"
      ]
     },
     "metadata": {
      "needs_background": "light"
     },
     "output_type": "display_data"
    }
   ],
   "source": [
    "# plot accuracy and steps vs. rotation with two y axes\n",
    "fig, ax1 = plt.subplots()\n",
    "ax1.set_xlabel(\"Rotation\")\n",
    "ax1.set_ylabel(\"Accuracy\")\n",
    "ax1.plot(rots, accs, color='b', label=\"Accuracy\")\n",
    "ax1.set_xticks(rots)\n",
    "ax1.set_xticklabels([f\"${r}^\\circ$\" for r in rots.astype(int)])\n",
    "ax1.set_ylim(0., 1.0)\n",
    "ax2 = ax1.twinx()\n",
    "ax2.set_ylabel(\"Steps\")\n",
    "ax2.plot(rots, steps, color=\"r\", label=\"Steps\")\n",
    "# ax2.set_ylim(5,6)\n",
    "fig.legend()\n",
    "\n",
    "fig.tight_layout()\n",
    "fig.savefig(\"rotation_accuracy_steps2.png\", dpi=500)"
   ]
  },
  {
   "cell_type": "code",
   "execution_count": 10,
   "metadata": {},
   "outputs": [
    {
     "data": {
      "text/plain": [
       "<matplotlib.legend.Legend at 0x13949e130>"
      ]
     },
     "execution_count": 10,
     "metadata": {},
     "output_type": "execute_result"
    },
    {
     "data": {
      "image/png": "[encoded data removed]",
      "text/plain": [
       "<Figure size 432x288 with 1 Axes>"
      ]
     },
     "metadata": {
      "needs_background": "light"
     },
     "output_type": "display_data"
    }
   ],
   "source": [
    "# plot accuracy and steps vs. rotation with two y axes\n",
    "fig, ax1 = plt.subplots()\n",
    "ax1.set_xlabel(\"Rotation\")\n",
    "ax1.set_ylabel(\"Accuracy\")\n",
    "ax1.plot(rots, accs, color='b', label=\"Accuracy\")\n",
    "ax1.set_xticks(rots)\n",
    "ax1.set_xticklabels([f\"${r}^\\circ$\" for r in rots.astype(int)])\n",
    "ax1.set_ylim(0., 1.0)\n",
    "fig.legend(loc=\"center\")"
   ]
  },
  {
   "cell_type": "code",
   "execution_count": 17,
   "metadata": {},
   "outputs": [
    {
     "data": {
      "text/plain": [
       "<matplotlib.legend.Legend at 0x13991d940>"
      ]
     },
     "execution_count": 17,
     "metadata": {},
     "output_type": "execute_result"
    },
    {
     "data": {
      "image/png": "[encoded data removed]",
      "text/plain": [
       "<Figure size 720x360 with 1 Axes>"
      ]
     },
     "metadata": {
      "needs_background": "light"
     },
     "output_type": "display_data"
    }
   ],
   "source": [
    "# plot accuracy and steps vs. rotation with two y axes\n",
    "fig, ax1 = plt.subplots(figsize=(10,5))\n",
    "ax1.set_xlabel(\"Rotation\")\n",
    "ax1.set_xticks(rots)\n",
    "ax1.set_xticklabels([f\"${r}^\\circ$\" for r in rots.astype(int)])\n",
    "ax1.set_ylabel(\"Steps\")\n",
    "# ax1.errorbar(rots, steps_50, yerr=[steps_25, steps_75], fmt='o', label=\"Steps\")\n",
    "labels = [\"25%\", \"50%\", \"75%\"]\n",
    "for l, s in zip(labels, [steps_25, steps_50, steps_75]):\n",
    "    ax1.plot(rots, s, label=l, linestyle=\"dashed\")\n",
    "ax1.plot(rots, steps, color=\"r\", label=\"mean\")\n",
    "# ax1.set_ylim(0,5)\n",
    "fig.legend()\n"
   ]
  },
  {
   "cell_type": "code",
   "execution_count": 21,
   "metadata": {},
   "outputs": [
    {
     "data": {
      "text/html": [
       "<div>\n",
       "<style scoped>\n",
       "    .dataframe tbody tr th:only-of-type {\n",
       "        vertical-align: middle;\n",
       "    }\n",
       "\n",
       "    .dataframe tbody tr th {\n",
       "        vertical-align: top;\n",
       "    }\n",
       "\n",
       "    .dataframe thead th {\n",
       "        text-align: right;\n",
       "    }\n",
       "</style>\n",
       "<table border=\"1\" class=\"dataframe\">\n",
       "  <thead>\n",
       "    <tr style=\"text-align: right;\">\n",
       "      <th></th>\n",
       "      <th>0</th>\n",
       "      <th>1</th>\n",
       "      <th>2</th>\n",
       "      <th>3</th>\n",
       "      <th>4</th>\n",
       "      <th>5</th>\n",
       "      <th>6</th>\n",
       "    </tr>\n",
       "  </thead>\n",
       "  <tbody>\n",
       "    <tr>\n",
       "      <th>q1</th>\n",
       "      <td>3.8492</td>\n",
       "      <td>3.518</td>\n",
       "      <td>3.4572</td>\n",
       "      <td>3.5616</td>\n",
       "      <td>3.4972</td>\n",
       "      <td>3.4688</td>\n",
       "      <td>3.462</td>\n",
       "    </tr>\n",
       "    <tr>\n",
       "      <th>whislo</th>\n",
       "      <td>3.8492</td>\n",
       "      <td>3.518</td>\n",
       "      <td>3.4572</td>\n",
       "      <td>3.5616</td>\n",
       "      <td>3.4972</td>\n",
       "      <td>3.4688</td>\n",
       "      <td>3.462</td>\n",
       "    </tr>\n",
       "    <tr>\n",
       "      <th>med</th>\n",
       "      <td>7.0472</td>\n",
       "      <td>6.356</td>\n",
       "      <td>6.3088</td>\n",
       "      <td>6.3792</td>\n",
       "      <td>6.3728</td>\n",
       "      <td>6.264</td>\n",
       "      <td>6.2432</td>\n",
       "    </tr>\n",
       "    <tr>\n",
       "      <th>q3</th>\n",
       "      <td>12.5052</td>\n",
       "      <td>11.3288</td>\n",
       "      <td>11.1008</td>\n",
       "      <td>11.1384</td>\n",
       "      <td>11.4688</td>\n",
       "      <td>11.226</td>\n",
       "      <td>11.2156</td>\n",
       "    </tr>\n",
       "    <tr>\n",
       "      <th>whishi</th>\n",
       "      <td>12.5052</td>\n",
       "      <td>11.3288</td>\n",
       "      <td>11.1008</td>\n",
       "      <td>11.1384</td>\n",
       "      <td>11.4688</td>\n",
       "      <td>11.226</td>\n",
       "      <td>11.2156</td>\n",
       "    </tr>\n",
       "    <tr>\n",
       "      <th>iqr</th>\n",
       "      <td>8.656</td>\n",
       "      <td>7.8108</td>\n",
       "      <td>7.6436</td>\n",
       "      <td>7.5768</td>\n",
       "      <td>7.9716</td>\n",
       "      <td>7.7572</td>\n",
       "      <td>7.7536</td>\n",
       "    </tr>\n",
       "    <tr>\n",
       "      <th>fliers</th>\n",
       "      <td>[None]</td>\n",
       "      <td>[None]</td>\n",
       "      <td>[None]</td>\n",
       "      <td>[None]</td>\n",
       "      <td>[None]</td>\n",
       "      <td>[None]</td>\n",
       "      <td>[None]</td>\n",
       "    </tr>\n",
       "    <tr>\n",
       "      <th>mean</th>\n",
       "      <td>8.6249</td>\n",
       "      <td>8.028</td>\n",
       "      <td>7.9681</td>\n",
       "      <td>8.0179</td>\n",
       "      <td>8.0852</td>\n",
       "      <td>8.0108</td>\n",
       "      <td>7.9928</td>\n",
       "    </tr>\n",
       "    <tr>\n",
       "      <th>label</th>\n",
       "      <td>$0^\\circ$</td>\n",
       "      <td>$30^\\circ$</td>\n",
       "      <td>$60^\\circ$</td>\n",
       "      <td>$90^\\circ$</td>\n",
       "      <td>$120^\\circ$</td>\n",
       "      <td>$150^\\circ$</td>\n",
       "      <td>$180^\\circ$</td>\n",
       "    </tr>\n",
       "    <tr>\n",
       "      <th>std</th>\n",
       "      <td>6.411852</td>\n",
       "      <td>5.785778</td>\n",
       "      <td>5.661926</td>\n",
       "      <td>5.612445</td>\n",
       "      <td>5.904889</td>\n",
       "      <td>5.746074</td>\n",
       "      <td>5.743407</td>\n",
       "    </tr>\n",
       "  </tbody>\n",
       "</table>\n",
       "</div>"
      ],
      "text/plain": [
       "                0           1           2           3            4  \\\n",
       "q1         3.8492       3.518      3.4572      3.5616       3.4972   \n",
       "whislo     3.8492       3.518      3.4572      3.5616       3.4972   \n",
       "med        7.0472       6.356      6.3088      6.3792       6.3728   \n",
       "q3        12.5052     11.3288     11.1008     11.1384      11.4688   \n",
       "whishi    12.5052     11.3288     11.1008     11.1384      11.4688   \n",
       "iqr         8.656      7.8108      7.6436      7.5768       7.9716   \n",
       "fliers     [None]      [None]      [None]      [None]       [None]   \n",
       "mean       8.6249       8.028      7.9681      8.0179       8.0852   \n",
       "label   $0^\\circ$  $30^\\circ$  $60^\\circ$  $90^\\circ$  $120^\\circ$   \n",
       "std      6.411852    5.785778    5.661926    5.612445     5.904889   \n",
       "\n",
       "                  5            6  \n",
       "q1           3.4688        3.462  \n",
       "whislo       3.4688        3.462  \n",
       "med           6.264       6.2432  \n",
       "q3           11.226      11.2156  \n",
       "whishi       11.226      11.2156  \n",
       "iqr          7.7572       7.7536  \n",
       "fliers       [None]       [None]  \n",
       "mean         8.0108       7.9928  \n",
       "label   $150^\\circ$  $180^\\circ$  \n",
       "std        5.746074     5.743407  "
      ]
     },
     "execution_count": 21,
     "metadata": {},
     "output_type": "execute_result"
    }
   ],
   "source": [
    "stats = dict()\n",
    "for r in range(len(rots)):\n",
    "    d = dict()\n",
    "    # stats[r][\"mean\"] = steps[r]\n",
    "    d[\"q1\"] = d['whislo'] = steps_25[r]\n",
    "    d[\"med\"] = steps_50[r]\n",
    "    d[\"q3\"] = d['whishi'] = steps_75[r]\n",
    "    d[\"iqr\"] = d['whishi'] - d['whislo']\n",
    "    d['fliers'] = [None]\n",
    "    d['mean'] = steps[r]\n",
    "    d['label'] = rotlabs[r]\n",
    "    d['std'] = d['iqr'] / 1.35\n",
    "    stats[r] = d\n",
    "    # stats[r] = [stats[r]]\n",
    "df = pd.DataFrame(stats)\n",
    "df"
   ]
  },
  {
   "cell_type": "code",
   "execution_count": 23,
   "metadata": {},
   "outputs": [
    {
     "data": {
      "text/plain": [
       "0    6.411852\n",
       "1    5.785778\n",
       "2    5.661926\n",
       "3    5.612445\n",
       "4    5.904889\n",
       "5    5.746074\n",
       "6    5.743407\n",
       "Name: std, dtype: object"
      ]
     },
     "execution_count": 23,
     "metadata": {},
     "output_type": "execute_result"
    }
   ],
   "source": [
    "df.T[\"std\"]"
   ]
  },
  {
   "cell_type": "code",
   "execution_count": 24,
   "metadata": {},
   "outputs": [
    {
     "data": {
      "text/plain": [
       "<matplotlib.legend.Legend at 0x13999d580>"
      ]
     },
     "execution_count": 24,
     "metadata": {},
     "output_type": "execute_result"
    },
    {
     "data": {
      "image/png": "[encoded data removed]",
      "text/plain": [
       "<Figure size 720x360 with 1 Axes>"
      ]
     },
     "metadata": {
      "needs_background": "light"
     },
     "output_type": "display_data"
    }
   ],
   "source": [
    "# plot accuracy and steps vs. rotation with two y axes\n",
    "fig, ax1 = plt.subplots(figsize=(10,5))\n",
    "ax1.set_xlabel(\"Rotation\")\n",
    "ax1.set_xticks(rots)\n",
    "ax1.set_xticklabels([f\"${r}^\\circ$\" for r in rots.astype(int)])\n",
    "ax1.set_ylabel(\"Steps\")\n",
    "ax1.errorbar(rots, steps_50, yerr=df.T[\"std\"], fmt='o', label=\"Steps\")\n",
    "# labels = [\"25%\", \"50%\", \"75%\"]\n",
    "# for l, s in zip(labels, [steps_25, steps_50, steps_75]):\n",
    "#     ax1.plot(rots, s, label=l, linestyle=\"dashed\")\n",
    "ax1.plot(rots, steps, color=\"r\", label=\"mean\")\n",
    "# ax1.set_ylim(0,5)\n",
    "fig.legend()\n"
   ]
  },
  {
   "cell_type": "code",
   "execution_count": 13,
   "metadata": {},
   "outputs": [
    {
     "name": "stderr",
     "output_type": "stream",
     "text": [
      "No handles with labels found to put in legend.\n"
     ]
    },
    {
     "data": {
      "text/plain": [
       "<matplotlib.legend.Legend at 0x1395330d0>"
      ]
     },
     "execution_count": 13,
     "metadata": {},
     "output_type": "execute_result"
    },
    {
     "data": {
      "image/png": "[encoded data removed]",
      "text/plain": [
       "<Figure size 720x360 with 1 Axes>"
      ]
     },
     "metadata": {
      "needs_background": "light"
     },
     "output_type": "display_data"
    }
   ],
   "source": [
    "\n",
    "# plot accuracy and steps vs. rotation with two y axes\n",
    "fig, ax1 = plt.subplots(figsize=(10,5))\n",
    "ax1.set_xlabel(\"Rotation\")\n",
    "ax1.set_xticks(rots)\n",
    "ax1.set_xticklabels(rotlabs)\n",
    "ax1.set_ylabel(\"Steps\")\n",
    "ax1.bxp([stats[i] for i in range(7)], positions=rots)\n",
    "ax1.set_ylim(0,5)\n",
    "fig.legend()\n"
   ]
  },
  {
   "cell_type": "code",
   "execution_count": 14,
   "metadata": {},
   "outputs": [
    {
     "data": {
      "text/plain": [
       "{'q1': 3.84920001029968,\n",
       " 'whislo': 3.84920001029968,\n",
       " 'med': 7.04720020294189,\n",
       " 'q3': 12.5052003860474,\n",
       " 'whishi': 12.5052003860474,\n",
       " 'iqr': 8.65600037574772,\n",
       " 'fliers': [None],\n",
       " 'mean': 8.62489986419678,\n",
       " 'label': '$0^\\\\circ$'}"
      ]
     },
     "execution_count": 14,
     "metadata": {},
     "output_type": "execute_result"
    }
   ],
   "source": [
    "stats[0]"
   ]
  },
  {
   "cell_type": "code",
   "execution_count": null,
   "metadata": {},
   "outputs": [],
   "source": []
  },
  {
   "cell_type": "markdown",
   "metadata": {},
   "source": [
    "# copycat\n",
    "\n"
   ]
  },
  {
   "cell_type": "code",
   "execution_count": 231,
   "metadata": {},
   "outputs": [
    {
     "data": {
      "image/png": "[encoded data removed]",
      "text/plain": [
       "<Figure size 432x288 with 2 Axes>"
      ]
     },
     "metadata": {
      "needs_background": "light"
     },
     "output_type": "display_data"
    }
   ],
   "source": [
    "accs = [0.9857, 0.9515, 0.8356, 0.6903]\n",
    "steps = [8.160, 7.861, 7.657, 7.483]\n",
    "rots = [22.5, 45, 67.5, 90]\n",
    "rotlabs = [f\"${r}^\\circ$\" for r in rots]\n",
    "\n",
    "# plot accuracy and steps vs. rotation with two y axes\n",
    "fig, ax1 = plt.subplots(figsize=(6,4))\n",
    "ax1.set_xlabel(\"Rotation\")\n",
    "ax1.set_ylabel(\"Accuracy\")\n",
    "ax1.plot(rots, accs, color='b', label=\"Accuracy\")\n",
    "ax1.set_xticks(rots)\n",
    "ax1.set_xticklabels(rotlabs)\n",
    "ax1.set_ylim(0., 1.0)\n",
    "ax2 = ax1.twinx()\n",
    "ax2.set_ylabel(\"Steps\")\n",
    "ax2.plot(rots, steps, color=\"r\", label=\"Steps\")\n",
    "# ax2.set_ylim(5,6)\n",
    "fig.legend()\n",
    "fig.tight_layout()\n",
    "fig.savefig(\"rotation_accuracy_steps.png\", dpi=500)"
   ]
  },
  {
   "cell_type": "code",
   "execution_count": null,
   "metadata": {},
   "outputs": [],
   "source": []
  }
 ],
 "metadata": {
  "interpreter": {
   "hash": "5c061cf8b470c421540933f60c957ae41021d4e96c8ad7fd4d245fd565be9a60"
  },
  "kernelspec": {
   "display_name": "Python 3.9.7 64-bit ('ml': conda)",
   "language": "python",
   "name": "python3"
  },
  "language_info": {
   "codemirror_mode": {
    "name": "ipython",
    "version": 3
   },
   "file_extension": ".py",
   "mimetype": "text/x-python",
   "name": "python",
   "nbconvert_exporter": "python",
   "pygments_lexer": "ipython3",
   "version": "3.9.7"
  },
  "orig_nbformat": 4
 },
 "nbformat": 4,
 "nbformat_minor": 2
}
